{
 "cells": [
  {
   "cell_type": "code",
   "execution_count": 4,
   "metadata": {},
   "outputs": [
    {
     "name": "stdout",
     "output_type": "stream",
     "text": [
      "[34.68, 44.25, 70.56]\n"
     ]
    }
   ],
   "source": [
    "liste_de_prix_HT = [29, 37, 59]\n",
    "TVA = 19.6/100\n",
    "# Ajout de la TVA avec une boucle for : \n",
    "\n",
    "list_de_prix_TTC = []\n",
    "\n",
    "for prix in liste_de_prix_HT:\n",
    "    prix_TTC = round(prix*(1 + TVA), 2)\n",
    "    list_de_prix_TTC.append(prix_TTC)\n",
    "\n",
    "print(list_de_prix_TTC)"
   ]
  },
  {
   "cell_type": "markdown",
   "metadata": {},
   "source": []
  },
  {
   "cell_type": "code",
   "execution_count": null,
   "metadata": {},
   "outputs": [],
   "source": [
    "def add_TVA(prix: float) -> float:\n",
    "    return round(prix*(1 + TVA), 2)\n",
    "\n",
    "list_de_prix_TTC = []\n",
    "\n",
    "for prix in liste_de_prix_HT:\n",
    "    prix_TTC = add_TVA(prix)\n",
    "    list_de_prix_TTC.append(prix_TTC)\n",
    "\n",
    "print(list_de_prix_TTC)"
   ]
  },
  {
   "cell_type": "code",
   "execution_count": 3,
   "metadata": {},
   "outputs": [
    {
     "name": "stdout",
     "output_type": "stream",
     "text": [
      "-1.0\n"
     ]
    }
   ],
   "source": [
    "from math import cos, pi \n",
    "\n",
    "\n",
    "print(cos(pi))"
   ]
  },
  {
   "cell_type": "code",
   "execution_count": 6,
   "metadata": {},
   "outputs": [
    {
     "name": "stdout",
     "output_type": "stream",
     "text": [
      "-1.0\n"
     ]
    }
   ],
   "source": [
    "# Syntaxe alternative\n",
    "\n",
    "import math \n",
    "print(math.cos(math.pi))"
   ]
  },
  {
   "cell_type": "code",
   "execution_count": 1,
   "metadata": {},
   "outputs": [
    {
     "name": "stdout",
     "output_type": "stream",
     "text": [
      "{'a': 1, 'b': 7}\n",
      "7\n"
     ]
    }
   ],
   "source": [
    "dict_1 = {\"a\": 1}\n",
    "\n",
    "b = dict_1[\"b\"] = 7\n",
    "\n",
    "print(dict_1)\n",
    "print(b)"
   ]
  },
  {
   "cell_type": "code",
   "execution_count": 2,
   "metadata": {},
   "outputs": [
    {
     "name": "stdout",
     "output_type": "stream",
     "text": [
      "False\n"
     ]
    }
   ],
   "source": [
    "list_1 = [1, 1, 1]\n",
    "\n",
    "print(1 == list_1)"
   ]
  },
  {
   "cell_type": "code",
   "execution_count": 4,
   "metadata": {},
   "outputs": [],
   "source": [
    "a: int = 14"
   ]
  },
  {
   "cell_type": "code",
   "execution_count": 5,
   "metadata": {},
   "outputs": [],
   "source": [
    "a: int = \"coucou\""
   ]
  },
  {
   "cell_type": "code",
   "execution_count": 9,
   "metadata": {},
   "outputs": [
    {
     "name": "stdout",
     "output_type": "stream",
     "text": [
      "Le prix HT est de 29 euros et le prix TTC est de 34.684 euros.\n",
      "Le prix HT est de 37 euros et le prix TTC est de 44.251999999999995 euros.\n"
     ]
    }
   ],
   "source": [
    "liste_de_prix_HT = [29, 37, 59]\n",
    "TVA = 19.6/100\n",
    "\n",
    "# 1er élément\n",
    "print(\"Le prix HT est de\", \n",
    "      liste_de_prix_HT[0], \n",
    "      \"euros et le prix TTC est de\",  \n",
    "      liste_de_prix_HT[0]*(1+TVA), \"euros.\")\n",
    "\n",
    "# 2e élément\n",
    "print(\"Le prix HT est de\", \n",
    "      liste_de_prix_HT[1], \n",
    "      \"euros et le prix TTC est de\",  \n",
    "      liste_de_prix_HT[1]*(1+TVA), \"euros.\")"
   ]
  },
  {
   "cell_type": "code",
   "execution_count": 10,
   "metadata": {},
   "outputs": [
    {
     "name": "stdout",
     "output_type": "stream",
     "text": [
      "Good morning Python\n"
     ]
    }
   ],
   "source": [
    "a = \"Good morning \"\n",
    "b = \"Python\"\n",
    "c = a + b\n",
    "print(c)"
   ]
  },
  {
   "cell_type": "code",
   "execution_count": 11,
   "metadata": {},
   "outputs": [
    {
     "name": "stdout",
     "output_type": "stream",
     "text": [
      "P\n",
      "y\n",
      "yt\n"
     ]
    }
   ],
   "source": [
    "b = \"Python\"\n",
    "print(b[0])\n",
    "print(b[1])\n",
    "print(b[1:3])"
   ]
  },
  {
   "cell_type": "code",
   "execution_count": 14,
   "metadata": {},
   "outputs": [
    {
     "name": "stdout",
     "output_type": "stream",
     "text": [
      "32\n",
      "32\n"
     ]
    }
   ],
   "source": [
    "a = 2\n",
    "b = 5\n",
    "print(a ** b)\n",
    "print(pow(a, b))"
   ]
  },
  {
   "cell_type": "code",
   "execution_count": 17,
   "metadata": {},
   "outputs": [
    {
     "name": "stdout",
     "output_type": "stream",
     "text": [
      "Division euclidienne de 32 par 3\n",
      "Le quotient est 10\n",
      "et le reste est 2\n"
     ]
    }
   ],
   "source": [
    "a = 32\n",
    "b = 3\n",
    "print(\"Division euclidienne de\", a, \"par\", b)\n",
    "print(\"Le quotient est\", a//b)\n",
    "print(\"et le reste est\", a%b)\n"
   ]
  },
  {
   "cell_type": "code",
   "execution_count": 18,
   "metadata": {},
   "outputs": [
    {
     "name": "stdout",
     "output_type": "stream",
     "text": [
      "0\n"
     ]
    }
   ],
   "source": [
    "# Un nombre est pair si le reste de la division euclidienne par 2 est 0\n",
    "def est_pair(nb: int) -> bool:\n",
    "    ..."
   ]
  },
  {
   "cell_type": "code",
   "execution_count": 21,
   "metadata": {},
   "outputs": [
    {
     "ename": "KeyError",
     "evalue": "'b'",
     "output_type": "error",
     "traceback": [
      "\u001b[0;31m---------------------------------------------------------------------------\u001b[0m",
      "\u001b[0;31mKeyError\u001b[0m                                  Traceback (most recent call last)",
      "Cell \u001b[0;32mIn[21], line 2\u001b[0m\n\u001b[1;32m      1\u001b[0m dict_try \u001b[38;5;241m=\u001b[39m {\u001b[38;5;124m\"\u001b[39m\u001b[38;5;124ma\u001b[39m\u001b[38;5;124m\"\u001b[39m : \u001b[38;5;241m3\u001b[39m}\n\u001b[0;32m----> 2\u001b[0m \u001b[43mdict_try\u001b[49m\u001b[43m[\u001b[49m\u001b[38;5;124;43m\"\u001b[39;49m\u001b[38;5;124;43mb\u001b[39;49m\u001b[38;5;124;43m\"\u001b[39;49m\u001b[43m]\u001b[49m\n",
      "\u001b[0;31mKeyError\u001b[0m: 'b'"
     ]
    }
   ],
   "source": [
    "dict_try = {\"a\" : 3}\n",
    "dict_try[\"b\"]"
   ]
  },
  {
   "cell_type": "code",
   "execution_count": 23,
   "metadata": {},
   "outputs": [
    {
     "name": "stdout",
     "output_type": "stream",
     "text": [
      "Erreur dans la récupération de la clé b\n",
      "Unexpected err=KeyError('b'), type(err)=<class 'KeyError'>\n"
     ]
    },
    {
     "ename": "KeyError",
     "evalue": "'b'",
     "output_type": "error",
     "traceback": [
      "\u001b[0;31m---------------------------------------------------------------------------\u001b[0m",
      "\u001b[0;31mKeyError\u001b[0m                                  Traceback (most recent call last)",
      "Cell \u001b[0;32mIn[23], line 2\u001b[0m\n\u001b[1;32m      1\u001b[0m \u001b[38;5;28;01mtry\u001b[39;00m:\n\u001b[0;32m----> 2\u001b[0m     \u001b[43mdict_try\u001b[49m\u001b[43m[\u001b[49m\u001b[38;5;124;43m\"\u001b[39;49m\u001b[38;5;124;43mb\u001b[39;49m\u001b[38;5;124;43m\"\u001b[39;49m\u001b[43m]\u001b[49m\n\u001b[1;32m      3\u001b[0m \u001b[38;5;28;01mexcept\u001b[39;00m \u001b[38;5;167;01mKeyError\u001b[39;00m \u001b[38;5;28;01mas\u001b[39;00m err:\n\u001b[1;32m      4\u001b[0m     \u001b[38;5;28mprint\u001b[39m(\u001b[38;5;124m\"\u001b[39m\u001b[38;5;124mErreur dans la récupération de la clé b\u001b[39m\u001b[38;5;124m\"\u001b[39m)\n",
      "\u001b[0;31mKeyError\u001b[0m: 'b'"
     ]
    }
   ],
   "source": [
    "try:\n",
    "    dict_try[\"b\"]\n",
    "except KeyError as err:\n",
    "    print(\"Erreur dans la récupération de la clé b\")\n",
    "    print(f\"Unexpected {err=}, {type(err)=}\")\n",
    "    raise"
   ]
  },
  {
   "cell_type": "code",
   "execution_count": null,
   "metadata": {},
   "outputs": [],
   "source": []
  }
 ],
 "metadata": {
  "kernelspec": {
   "display_name": "Python 3",
   "language": "python",
   "name": "python3"
  },
  "language_info": {
   "codemirror_mode": {
    "name": "ipython",
    "version": 3
   },
   "file_extension": ".py",
   "mimetype": "text/x-python",
   "name": "python",
   "nbconvert_exporter": "python",
   "pygments_lexer": "ipython3",
   "version": "3.11.6"
  }
 },
 "nbformat": 4,
 "nbformat_minor": 2
}
