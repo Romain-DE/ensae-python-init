{
 "cells": [
  {
   "cell_type": "code",
   "execution_count": null,
   "metadata": {},
   "outputs": [],
   "source": [
    "# Un nombre est pair si le reste de la division euclidienne par 2 est 0\n",
    "def est_pair(nb: int) -> bool:\n",
    "    ...\n",
    "\n",
    "# reste de la division euclidienne de a par b : a%b\n",
    "# vérification d'une égalité entre a et b : a == b"
   ]
  },
  {
   "cell_type": "code",
   "execution_count": null,
   "metadata": {},
   "outputs": [],
   "source": [
    "# Ecrire une fonciton qui vérifie la parité d'un entier\n",
    "# 1ère implem\n",
    "def est_pair(nb: int) -> bool :\n",
    "    if nb%2==0:\n",
    "        return True\n",
    "    else :\n",
    "        return False\n",
    "\n",
    "# 2e implem plus concise : à privilégier\n",
    "def est_pair_2(nb: int) -> bool:\n",
    "    return nb%2 == 0"
   ]
  },
  {
   "cell_type": "code",
   "execution_count": null,
   "metadata": {},
   "outputs": [],
   "source": [
    "# Définir la chaîne de caractère 'ENSAE'. Récupérer à partir de cette dernière les trois dernières lettres"
   ]
  }
 ],
 "metadata": {
  "language_info": {
   "name": "python"
  }
 },
 "nbformat": 4,
 "nbformat_minor": 2
}
