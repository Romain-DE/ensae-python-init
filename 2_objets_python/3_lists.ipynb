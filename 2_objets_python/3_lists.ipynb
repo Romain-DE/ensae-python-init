{
 "cells": [
  {
   "cell_type": "code",
   "execution_count": 9,
   "metadata": {},
   "outputs": [
    {
     "name": "stdout",
     "output_type": "stream",
     "text": [
      "[1, 2, 'coucou', None]\n"
     ]
    }
   ],
   "source": [
    "a = [1, 2, \"coucou\", None]\n",
    "print(a)"
   ]
  },
  {
   "cell_type": "code",
   "execution_count": 10,
   "metadata": {},
   "outputs": [
    {
     "name": "stdout",
     "output_type": "stream",
     "text": [
      "[1, 2, 'coucou', None, 'salut !']\n"
     ]
    }
   ],
   "source": [
    "# ajouter un élément à une liste\n",
    "a.append(\"salut !\")\n",
    "print(a)"
   ]
  },
  {
   "cell_type": "code",
   "execution_count": 11,
   "metadata": {},
   "outputs": [
    {
     "data": {
      "text/plain": [
       "[1, 2, 'salut', 'coucou', None, 'salut !']"
      ]
     },
     "execution_count": 11,
     "metadata": {},
     "output_type": "execute_result"
    }
   ],
   "source": [
    "a[0:2] + [\"salut\"] + a[2:5]"
   ]
  },
  {
   "cell_type": "code",
   "execution_count": 7,
   "metadata": {},
   "outputs": [
    {
     "name": "stdout",
     "output_type": "stream",
     "text": [
      "[1, 2, 'coucou', None, 'salut !', 'salut !', 4, 5, 6]\n"
     ]
    }
   ],
   "source": [
    "# concaténer plusieurs listes\n",
    "b = [4, 5, 6]\n",
    "c = a + b\n",
    "print(c)"
   ]
  },
  {
   "cell_type": "code",
   "execution_count": 12,
   "metadata": {},
   "outputs": [
    {
     "name": "stdout",
     "output_type": "stream",
     "text": [
      "coucou\n"
     ]
    }
   ],
   "source": [
    "# récupérer un élément à un index donné\n",
    "elt_2 = c[2]\n",
    "print(elt_2)"
   ]
  },
  {
   "cell_type": "code",
   "execution_count": 11,
   "metadata": {},
   "outputs": [
    {
     "name": "stdout",
     "output_type": "stream",
     "text": [
      "['Bob', 'Charlie', 'Bob', 'Dave']\n"
     ]
    }
   ],
   "source": [
    "# suppression d'un élément\n",
    "l = ['Alice', 'Bob', 'Charlie', 'Bob', 'Dave']\n",
    "\n",
    "l.remove('Alice')\n",
    "print(l)"
   ]
  },
  {
   "cell_type": "code",
   "execution_count": 13,
   "metadata": {},
   "outputs": [
    {
     "name": "stdout",
     "output_type": "stream",
     "text": [
      "[8, 7, 5, 4, 3]\n"
     ]
    }
   ],
   "source": [
    "# trier une liste d'entiers\n",
    "d = [4, 3, 7, 5, 8]\n",
    "print(sorted(d, reverse=True))"
   ]
  },
  {
   "cell_type": "code",
   "execution_count": null,
   "metadata": {},
   "outputs": [],
   "source": []
  },
  {
   "cell_type": "code",
   "execution_count": 9,
   "metadata": {},
   "outputs": [
    {
     "name": "stdout",
     "output_type": "stream",
     "text": [
      "4\n",
      "3\n",
      "7\n",
      "5\n",
      "8\n"
     ]
    }
   ],
   "source": [
    "# parcourir une liste\n",
    "d = [4, 3, 7, 5, 8]\n",
    "for elt in d:\n",
    "    print(elt)"
   ]
  },
  {
   "cell_type": "code",
   "execution_count": 1,
   "metadata": {},
   "outputs": [
    {
     "name": "stdout",
     "output_type": "stream",
     "text": [
      "4\n",
      "3\n",
      "supérieur à 6\n",
      "5\n",
      "supérieur à 6\n",
      "supérieur à 6\n"
     ]
    }
   ],
   "source": [
    "# parcourir une liste\n",
    "d = [4, 3, 7, 5, 8, 10]\n",
    "for elt in d:\n",
    "    if elt > 6:\n",
    "        print(\"supérieur à 6\")\n",
    "    else :\n",
    "        print(elt)\n"
   ]
  },
  {
   "cell_type": "code",
   "execution_count": 4,
   "metadata": {},
   "outputs": [
    {
     "name": "stdout",
     "output_type": "stream",
     "text": [
      "Mot trop court\n",
      "hello\n",
      "salut\n",
      "bonjour\n",
      "Mot trop long\n"
     ]
    }
   ],
   "source": [
    "# parcourir une liste\n",
    "d = [\"hi\", \"hello\", \"salut\", \"bonjour\", \"salutations\"]\n",
    "for elt in d:\n",
    "    if len(elt) > 7:\n",
    "        print(\"Mot trop long\")\n",
    "    elif len(elt) < 3:\n",
    "        print(\"Mot trop court\")\n",
    "    else :\n",
    "        print(elt)"
   ]
  },
  {
   "cell_type": "code",
   "execution_count": 14,
   "metadata": {},
   "outputs": [
    {
     "name": "stdout",
     "output_type": "stream",
     "text": [
      "[4, 8, 10]\n"
     ]
    }
   ],
   "source": [
    "# filtrer et ne récupérer que les éléments pairs\n",
    "d = [4, 3, 7, 5, 8, 10]\n",
    "even_nb_list = []\n",
    "for elt in d:\n",
    "    if elt%2 == 0:\n",
    "        even_nb_list.append(elt)\n",
    "\n",
    "print(even_nb_list)\n"
   ]
  },
  {
   "cell_type": "code",
   "execution_count": null,
   "metadata": {},
   "outputs": [],
   "source": [
    "# filtrer et ne récupérer que les éléments pairs\n",
    "# Méthode avancée\n",
    "print([elt for elt in d if elt % 2 == 0])"
   ]
  },
  {
   "cell_type": "code",
   "execution_count": 16,
   "metadata": {},
   "outputs": [
    {
     "data": {
      "text/plain": [
       "[6, 5, 9, 7, 10, 12]"
      ]
     },
     "execution_count": 16,
     "metadata": {},
     "output_type": "execute_result"
    }
   ],
   "source": [
    "[elt + 2 for elt in d]"
   ]
  },
  {
   "cell_type": "code",
   "execution_count": 20,
   "metadata": {},
   "outputs": [
    {
     "data": {
      "text/plain": [
       "[0.8, 3, 7, 5, 1.6, 2.0]"
      ]
     },
     "execution_count": 20,
     "metadata": {},
     "output_type": "execute_result"
    }
   ],
   "source": [
    "def divise(a, b):\n",
    "    return a/b\n",
    "[divise(elt, 5) if elt%2 == 0 else elt for elt in d  ]"
   ]
  },
  {
   "cell_type": "code",
   "execution_count": null,
   "metadata": {},
   "outputs": [],
   "source": []
  }
 ],
 "metadata": {
  "kernelspec": {
   "display_name": "Python 3",
   "language": "python",
   "name": "python3"
  },
  "language_info": {
   "codemirror_mode": {
    "name": "ipython",
    "version": 3
   },
   "file_extension": ".py",
   "mimetype": "text/x-python",
   "name": "python",
   "nbconvert_exporter": "python",
   "pygments_lexer": "ipython3",
   "version": "3.11.6"
  }
 },
 "nbformat": 4,
 "nbformat_minor": 2
}
