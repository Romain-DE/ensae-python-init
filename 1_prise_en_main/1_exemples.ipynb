{
 "cells": [
  {
   "cell_type": "markdown",
   "metadata": {},
   "source": [
    "Exemple de la TVA"
   ]
  },
  {
   "cell_type": "code",
   "execution_count": 1,
   "metadata": {},
   "outputs": [
    {
     "name": "stdout",
     "output_type": "stream",
     "text": [
      "Le prix HT est de 29.99 euros et le prix TTC est de 35.988 euros.\n",
      "Le prix HT est de 37.55 euros et le prix TTC est de 45.059999999999995 euros.\n"
     ]
    }
   ],
   "source": [
    "liste_de_prix_HT = [29.99, 37.55, 59, 12, 25]\n",
    "TVA = 20/100\n",
    "\n",
    "# 1er élément\n",
    "print(\"Le prix HT est de\",\n",
    "      liste_de_prix_HT[0],\n",
    "      \"euros et le prix TTC est de\",\n",
    "      liste_de_prix_HT[0]*(1+TVA), \"euros.\")\n",
    "\n",
    "# 2e élément\n",
    "print(\"Le prix HT est de\",\n",
    "      liste_de_prix_HT[1],\n",
    "      \"euros et le prix TTC est de\",\n",
    "      liste_de_prix_HT[1]*(1+TVA), \"euros.\")\n",
    "\n",
    "# ..."
   ]
  },
  {
   "cell_type": "markdown",
   "metadata": {},
   "source": [
    "Plusieurs opérations se répètent : la sélection d'une valeur dans la liste, le calcul de la TVA et la commande print. Voyons quelles fonctions on peut ajouter"
   ]
  },
  {
   "cell_type": "code",
   "execution_count": 2,
   "metadata": {},
   "outputs": [
    {
     "name": "stdout",
     "output_type": "stream",
     "text": [
      "Le prix HT est de 29.99 euros et le prix TTC est de 35.99 euros.\n",
      "Le prix HT est de 37.55 euros et le prix TTC est de 45.06 euros.\n"
     ]
    }
   ],
   "source": [
    "# Une première amélioration : le calcul de la TVA (avec arrondi)\n",
    "def add_TVA(prix: float) -> float:\n",
    "    return round(prix*(1 + TVA), 2)\n",
    "\n",
    "# 1er élément\n",
    "print(\"Le prix HT est de\",\n",
    "      liste_de_prix_HT[0],\n",
    "      \"euros et le prix TTC est de\",\n",
    "      add_TVA(liste_de_prix_HT[0]), \"euros.\")\n",
    "\n",
    "# 2e élément\n",
    "print(\"Le prix HT est de\",\n",
    "      liste_de_prix_HT[1],\n",
    "      \"euros et le prix TTC est de\",\n",
    "      add_TVA(liste_de_prix_HT[1]), \"euros.\")\n",
    "\n",
    "# ..."
   ]
  },
  {
   "cell_type": "code",
   "execution_count": 3,
   "metadata": {},
   "outputs": [
    {
     "name": "stdout",
     "output_type": "stream",
     "text": [
      "Le prix HT est de 29.99 euros et le prix TTC est de 35.99 euros.\n",
      "Le prix HT est de 37.55 euros et le prix TTC est de 45.06 euros.\n"
     ]
    }
   ],
   "source": [
    "# Intégrons maintenant le print dans une fonction\n",
    "def print_TVA_message(prix: float) -> None:\n",
    "  print(\"Le prix HT est de\", prix, \"euros et le prix TTC est de\",\n",
    "        add_TVA(prix), \"euros.\")\n",
    "\n",
    "# 1er élément\n",
    "print_TVA_message(liste_de_prix_HT[0])\n",
    "\n",
    "# 2e élément\n",
    "print_TVA_message(liste_de_prix_HT[1])\n",
    "\n",
    "# ...\n"
   ]
  },
  {
   "cell_type": "code",
   "execution_count": 4,
   "metadata": {},
   "outputs": [
    {
     "name": "stdout",
     "output_type": "stream",
     "text": [
      "Le prix HT est de 29.99 euros et le prix TTC est de 35.99 euros.\n",
      "Le prix HT est de 37.55 euros et le prix TTC est de 45.06 euros.\n",
      "Le prix HT est de 59 euros et le prix TTC est de 70.8 euros.\n",
      "Le prix HT est de 12 euros et le prix TTC est de 14.4 euros.\n",
      "Le prix HT est de 25 euros et le prix TTC est de 30.0 euros.\n"
     ]
    }
   ],
   "source": [
    "# Bonus : boucle for\n",
    "# Affichons le message pour chaque élément de la liste :\n",
    "for prix in liste_de_prix_HT:\n",
    "  print_TVA_message(prix)"
   ]
  },
  {
   "cell_type": "code",
   "execution_count": 5,
   "metadata": {},
   "outputs": [
    {
     "data": {
      "text/plain": [
       "Ellipsis"
      ]
     },
     "execution_count": 5,
     "metadata": {},
     "output_type": "execute_result"
    }
   ],
   "source": [
    "# Nouveau scénario : on n'a plus une liste de prix, mais une liste de tuples (prix, taux de TVA)\n",
    "# Faire le même exercice, en choisissant le taux de TVA appliqué (5.5 ou 20)\n",
    "# et en le précisant dans le print\n",
    "liste_prix_TVA = [(25, 5.5), (15, 5.5), (200, 20)]\n",
    "..."
   ]
  },
  {
   "cell_type": "code",
   "execution_count": null,
   "metadata": {},
   "outputs": [],
   "source": []
  }
 ],
 "metadata": {
  "kernelspec": {
   "display_name": "Python 3",
   "language": "python",
   "name": "python3"
  },
  "language_info": {
   "codemirror_mode": {
    "name": "ipython",
    "version": 3
   },
   "file_extension": ".py",
   "mimetype": "text/x-python",
   "name": "python",
   "nbconvert_exporter": "python",
   "pygments_lexer": "ipython3",
   "version": "3.11.6"
  }
 },
 "nbformat": 4,
 "nbformat_minor": 2
}
