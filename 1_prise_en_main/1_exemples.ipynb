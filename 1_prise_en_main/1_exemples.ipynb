{
 "cells": [
  {
   "cell_type": "markdown",
   "metadata": {},
   "source": [
    "Exemple de la TVA"
   ]
  },
  {
   "cell_type": "code",
   "execution_count": 1,
   "metadata": {},
   "outputs": [
    {
     "name": "stdout",
     "output_type": "stream",
     "text": [
      "Le prix HT est de 29.99 euros et le prix TTC est de 35.988 euros.\n",
      "Le prix HT est de 37.55 euros et le prix TTC est de 45.059999999999995 euros.\n"
     ]
    }
   ],
   "source": [
    "liste_de_prix_HT = [29.99, 37.55, 59, 12, 25]\n",
    "TVA = 20/100\n",
    "\n",
    "# 1er élément\n",
    "print(\"Le prix HT est de\",\n",
    "      liste_de_prix_HT[0],\n",
    "      \"euros et le prix TTC est de\",\n",
    "      liste_de_prix_HT[0]*(1+TVA), \"euros.\")\n",
    "\n",
    "# 2e élément\n",
    "print(\"Le prix HT est de\",\n",
    "      liste_de_prix_HT[1],\n",
    "      \"euros et le prix TTC est de\",\n",
    "      liste_de_prix_HT[1]*(1+TVA), \"euros.\")\n",
    "\n",
    "# ..."
   ]
  },
  {
   "cell_type": "markdown",
   "metadata": {},
   "source": [
    "Plusieurs opérations se répètent : la sélection d'une valeur dans la liste, le calcul de la TVA et la commande print. Voyons quelles fonctions on peut ajouter"
   ]
  },
  {
   "cell_type": "code",
   "execution_count": 2,
   "metadata": {},
   "outputs": [
    {
     "name": "stdout",
     "output_type": "stream",
     "text": [
      "Le prix HT est de 29.99 euros et le prix TTC est de 35.99 euros.\n",
      "Le prix HT est de 37.55 euros et le prix TTC est de 45.06 euros.\n"
     ]
    }
   ],
   "source": [
    "# Une première amélioration : le calcul de la TVA (avec arrondi)\n",
    "TVA = 20/100\n",
    "def add_TVA(prix: float) -> float:\n",
    "    return round(prix*(1 + TVA), 2)\n",
    "\n",
    "# 1er élément\n",
    "print(\"Le prix HT est de\",\n",
    "      liste_de_prix_HT[0],\n",
    "      \"euros et le prix TTC est de\",\n",
    "      add_TVA(liste_de_prix_HT[0]), \"euros.\")\n",
    "\n",
    "# 2e élément\n",
    "print(\"Le prix HT est de\",\n",
    "      liste_de_prix_HT[1],\n",
    "      \"euros et le prix TTC est de\",\n",
    "      add_TVA(liste_de_prix_HT[1]), \"euros.\")\n",
    "\n",
    "# ..."
   ]
  },
  {
   "cell_type": "code",
   "execution_count": 3,
   "metadata": {},
   "outputs": [
    {
     "name": "stdout",
     "output_type": "stream",
     "text": [
      "Le prix HT est de 29.99 euros et le prix TTC est de 35.99 euros.\n",
      "Le prix HT est de 37.55 euros et le prix TTC est de 45.06 euros.\n"
     ]
    }
   ],
   "source": [
    "# Intégrons maintenant le print dans une fonction\n",
    "def print_TVA_message(prix: float) -> None:\n",
    "  print(\"Le prix HT est de\", prix, \"euros et le prix TTC est de\",\n",
    "        add_TVA(prix), \"euros.\")\n",
    "\n",
    "# 1er élément\n",
    "print_TVA_message(liste_de_prix_HT[0])\n",
    "\n",
    "# 2e élément\n",
    "print_TVA_message(liste_de_prix_HT[1])\n",
    "\n",
    "# ...\n"
   ]
  },
  {
   "cell_type": "code",
   "execution_count": null,
   "metadata": {},
   "outputs": [
    {
     "name": "stdout",
     "output_type": "stream",
     "text": [
      "Le prix HT est de 29.99 euros et le prix TTC est de 35.99 euros.\n",
      "Le prix HT est de 37.55 euros et le prix TTC est de 45.06 euros.\n",
      "Le prix HT est de 59 euros et le prix TTC est de 70.8 euros.\n",
      "Le prix HT est de 12 euros et le prix TTC est de 14.4 euros.\n",
      "Le prix HT est de 25 euros et le prix TTC est de 30.0 euros.\n"
     ]
    }
   ],
   "source": [
    "# Bonus : boucle for\n",
    "# Affichons le message pour chaque élément de la liste :\n",
    "for element in liste_de_prix_HT:\n",
    "  print_TVA_message(element)\n"
   ]
  },
  {
   "cell_type": "code",
   "execution_count": null,
   "metadata": {},
   "outputs": [],
   "source": [
    "def somme(a : int, b : int, c: int) -> int :\n",
    "    return a + b + c\n",
    "\n",
    "def divise(a: int, b: int) -> float:\n",
    "    return a/b\n",
    "\n",
    "def moyenne(a: int, b: int, c: int) -> float :\n",
    "    # return (a+b+c)/3\n",
    "    return divise(somme(a, b, c), 3)"
   ]
  },
  {
   "cell_type": "code",
   "execution_count": null,
   "metadata": {},
   "outputs": [],
   "source": [
    "\"2\" + \"4\""
   ]
  },
  {
   "cell_type": "code",
   "execution_count": 3,
   "metadata": {},
   "outputs": [
    {
     "name": "stdout",
     "output_type": "stream",
     "text": [
      "le premier élément du tuple 25\n",
      "le deuxième élément du tuple 5.5\n",
      "======\n",
      "le premier élément du tuple 15\n",
      "le deuxième élément du tuple 5.5\n",
      "======\n",
      "le premier élément du tuple 200\n",
      "le deuxième élément du tuple 20\n",
      "======\n"
     ]
    }
   ],
   "source": [
    "# Nouveau scénario : on n'a plus une liste de prix, \n",
    "# mais une liste de tuples (prix, taux de TVA)\n",
    "# Faire le même exercice, en choisissant le taux de TVA appliqué (5.5 ou 20)\n",
    "# et en le précisant dans le print\n",
    "liste_prix_TVA = [(25, 5.5), (15, 5.5), (200, 20)]\n",
    "# 1. définir une nouvelle add_TVA\n",
    "# 2. Utiliser cette fonction dans une boucle for qui parcourt la liste ci-dessus\n",
    "for elt_tuple in liste_prix_TVA:\n",
    "    print(\"le premier élément du tuple\", elt_tuple[0])\n",
    "    print(\"le deuxième élément du tuple\", elt_tuple[1])\n",
    "    print(\"======\")"
   ]
  },
  {
   "cell_type": "code",
   "execution_count": 7,
   "metadata": {},
   "outputs": [
    {
     "name": "stdout",
     "output_type": "stream",
     "text": [
      "le premier élément du tuple 25\n",
      "le deuxième élément du tuple 5.5\n",
      "======\n",
      "26.38\n",
      "le premier élément du tuple 15\n",
      "le deuxième élément du tuple 5.5\n",
      "======\n",
      "15.82\n",
      "le premier élément du tuple 200\n",
      "le deuxième élément du tuple 20\n",
      "======\n",
      "240.0\n"
     ]
    }
   ],
   "source": [
    "def add_TVA(prix: float, tva: float) -> float:\n",
    "    return round(prix*(1 + tva/100), 2)\n",
    "\n",
    "for toto in liste_prix_TVA:\n",
    "    print(\"le premier élément du tuple\", toto[0])\n",
    "    print(\"le deuxième élément du tuple\", toto[1])\n",
    "    print(\"======\")\n",
    "    print(add_TVA(toto[0], toto[1]))"
   ]
  },
  {
   "cell_type": "code",
   "execution_count": null,
   "metadata": {},
   "outputs": [],
   "source": []
  },
  {
   "cell_type": "markdown",
   "metadata": {},
   "source": [
    "Ex somme"
   ]
  },
  {
   "cell_type": "code",
   "execution_count": 4,
   "metadata": {},
   "outputs": [
    {
     "name": "stdout",
     "output_type": "stream",
     "text": [
      "0.3333333333333333\n",
      "0.6666666666666666\n",
      "1.6666666666666667\n",
      "4.0\n"
     ]
    }
   ],
   "source": [
    "# une fct qui divise par 3\n",
    "def divise_par_3(a:int) -> float :\n",
    "    return a/3\n",
    "\n",
    "def divise(a: int, b :int) -> float:\n",
    "    return a/b\n",
    "\n",
    "for i in [1, 2, 5, 12]:\n",
    "    print(divise_par_3(i))"
   ]
  },
  {
   "cell_type": "code",
   "execution_count": null,
   "metadata": {},
   "outputs": [],
   "source": [
    "condition: bool = ...\n",
    "if condition : \n",
    "    ...\n",
    "else :\n",
    "    ...\n",
    "\n",
    "# reste de la division euclidienne de a par b : a%b\n",
    "# vérification d'une égalité entre a et b : a == b"
   ]
  },
  {
   "cell_type": "code",
   "execution_count": 8,
   "metadata": {},
   "outputs": [
    {
     "data": {
      "text/plain": [
       "False"
      ]
     },
     "execution_count": 8,
     "metadata": {},
     "output_type": "execute_result"
    }
   ],
   "source": [
    "def est_pair(nb: int) -> bool :\n",
    "    if nb%2==0:\n",
    "        return True\n",
    "    else :\n",
    "        return False\n",
    "\n",
    "def est_pair_2(nb: int) -> bool:\n",
    "    return nb%2 == 0"
   ]
  },
  {
   "cell_type": "code",
   "execution_count": 10,
   "metadata": {},
   "outputs": [
    {
     "name": "stdout",
     "output_type": "stream",
     "text": [
      "coucou\n",
      "hello\n",
      "trop court\n"
     ]
    }
   ],
   "source": [
    "d = [\"coucou\", \"hello\", \"hi\"]\n",
    "\n",
    "def qualify_word_list(list_of_word : list[str]) -> None:\n",
    "\n",
    "    for elt in d:\n",
    "        if len(elt) > 7:\n",
    "            print(\"trop long\")\n",
    "        else :\n",
    "            if len(elt) < 3 : \n",
    "                print(\"trop court\")\n",
    "            else : \n",
    "                print(elt)\n",
    "\n",
    "qualify_word_list(d)"
   ]
  },
  {
   "cell_type": "code",
   "execution_count": null,
   "metadata": {},
   "outputs": [],
   "source": []
  }
 ],
 "metadata": {
  "kernelspec": {
   "display_name": "Python 3",
   "language": "python",
   "name": "python3"
  },
  "language_info": {
   "codemirror_mode": {
    "name": "ipython",
    "version": 3
   },
   "file_extension": ".py",
   "mimetype": "text/x-python",
   "name": "python",
   "nbconvert_exporter": "python",
   "pygments_lexer": "ipython3",
   "version": "3.11.6"
  }
 },
 "nbformat": 4,
 "nbformat_minor": 2
}
